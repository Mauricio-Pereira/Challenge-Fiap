{
  "cells": [
    {
      "cell_type": "code",
      "execution_count": 6,
      "metadata": {},
      "outputs": [
        {
          "name": "stdout",
          "output_type": "stream",
          "text": [
            "Collecting flask==1.1.2 (from -r requirements.txt (line 1))\n",
            "  Using cached Flask-1.1.2-py2.py3-none-any.whl.metadata (4.6 kB)\n",
            "Collecting numpy==1.19.2 (from -r requirements.txt (line 2))\n",
            "  Using cached numpy-1.19.2.zip (7.3 MB)\n",
            "  Installing build dependencies: started\n",
            "  Installing build dependencies: finished with status 'done'\n",
            "  Getting requirements to build wheel: started\n",
            "  Getting requirements to build wheel: finished with status 'done'\n",
            "  Preparing metadata (pyproject.toml): started\n",
            "  Preparing metadata (pyproject.toml): finished with status 'error'\n"
          ]
        },
        {
          "name": "stderr",
          "output_type": "stream",
          "text": [
            "  error: subprocess-exited-with-error\n",
            "  \n",
            "  × Preparing metadata (pyproject.toml) did not run successfully.\n",
            "  │ exit code: 1\n",
            "  ╰─> [93 lines of output]\n",
            "      Running from numpy source directory.\n",
            "      setup.py:470: UserWarning: Unrecognized setuptools command, proceeding with generating Cython sources and expanding templates\n",
            "        run_build = parse_setuppy_commands()\n",
            "      Cythonizing sources\n",
            "      Processing numpy/random\\_bounded_integers.pxd.in\n",
            "      Processing numpy/random\\bit_generator.pyx\n",
            "      Processing numpy/random\\mtrand.pyx\n",
            "      Processing numpy/random\\_bounded_integers.pyx.in\n",
            "      Processing numpy/random\\_common.pyx\n",
            "      performance hint: _common.pyx:275:19: Exception check after calling 'random_func' will always require the GIL to be acquired. Declare 'random_func' as 'noexcept' if you control the definition and you're sure you don't want the function to raise exceptions.\n",
            "      performance hint: _common.pyx:299:19: Exception check after calling 'random_func' will always require the GIL to be acquired. Declare 'random_func' as 'noexcept' if you control the definition and you're sure you don't want the function to raise exceptions.\n",
            "      performance hint: _common.pyx:322:50: Exception check after calling 'random_func' will always require the GIL to be acquired. Declare 'random_func' as 'noexcept' if you control the definition and you're sure you don't want the function to raise exceptions.\n",
            "      performance hint: _common.pyx:426:31: Exception check after calling 'f' will always require the GIL to be acquired. Declare 'f' as 'noexcept' if you control the definition and you're sure you don't want the function to raise exceptions.\n",
            "      performance hint: _common.pyx:465:31: Exception check after calling 'f' will always require the GIL to be acquired. Declare 'f' as 'noexcept' if you control the definition and you're sure you don't want the function to raise exceptions.\n",
            "      performance hint: _common.pyx:509:31: Exception check after calling 'f' will always require the GIL to be acquired. Declare 'f' as 'noexcept' if you control the definition and you're sure you don't want the function to raise exceptions.\n",
            "      performance hint: _common.pyx:592:36: Exception check after calling 'f0' will always require the GIL to be acquired. Declare 'f0' as 'noexcept' if you control the definition and you're sure you don't want the function to raise exceptions.\n",
            "      performance hint: _common.pyx:596:36: Exception check after calling 'f1' will always require the GIL to be acquired. Declare 'f1' as 'noexcept' if you control the definition and you're sure you don't want the function to raise exceptions.\n",
            "      performance hint: _common.pyx:600:36: Exception check after calling 'f2' will always require the GIL to be acquired. Declare 'f2' as 'noexcept' if you control the definition and you're sure you don't want the function to raise exceptions.\n",
            "      performance hint: _common.pyx:604:36: Exception check after calling 'f3' will always require the GIL to be acquired. Declare 'f3' as 'noexcept' if you control the definition and you're sure you don't want the function to raise exceptions.\n",
            "      performance hint: _common.pyx:638:31: Exception check after calling 'f' will always require the GIL to be acquired. Declare 'f' as 'noexcept' if you control the definition and you're sure you don't want the function to raise exceptions.\n",
            "      performance hint: _common.pyx:675:31: Exception check after calling 'f' will always require the GIL to be acquired. Declare 'f' as 'noexcept' if you control the definition and you're sure you don't want the function to raise exceptions.\n",
            "      performance hint: _common.pyx:712:63: Exception check after calling 'f' will always require the GIL to be acquired. Declare 'f' as 'noexcept' if you control the definition and you're sure you don't want the function to raise exceptions.\n",
            "      performance hint: _common.pyx:754:31: Exception check after calling 'f' will always require the GIL to be acquired. Declare 'f' as 'noexcept' if you control the definition and you're sure you don't want the function to raise exceptions.\n",
            "      performance hint: _common.pyx:785:31: Exception check after calling 'f' will always require the GIL to be acquired. Declare 'f' as 'noexcept' if you control the definition and you're sure you don't want the function to raise exceptions.\n",
            "      performance hint: _common.pyx:903:40: Exception check after calling 'f0' will always require the GIL to be acquired. Declare 'f0' as 'noexcept' if you control the definition and you're sure you don't want the function to raise exceptions.\n",
            "      performance hint: _common.pyx:907:40: Exception check after calling 'fd' will always require the GIL to be acquired. Declare 'fd' as 'noexcept' if you control the definition and you're sure you don't want the function to raise exceptions.\n",
            "      performance hint: _common.pyx:911:41: Exception check after calling 'fdd' will always require the GIL to be acquired. Declare 'fdd' as 'noexcept' if you control the definition and you're sure you don't want the function to raise exceptions.\n",
            "      performance hint: _common.pyx:916:40: Exception check after calling 'fi' will always require the GIL to be acquired. Declare 'fi' as 'noexcept' if you control the definition and you're sure you don't want the function to raise exceptions.\n",
            "      performance hint: _common.pyx:920:41: Exception check after calling 'fdi' will always require the GIL to be acquired. Declare 'fdi' as 'noexcept' if you control the definition and you're sure you don't want the function to raise exceptions.\n",
            "      performance hint: _common.pyx:924:38: Exception check after calling 'fiii' will always require the GIL to be acquired. Declare 'fiii' as 'noexcept' if you control the definition and you're sure you don't want the function to raise exceptions.\n",
            "      performance hint: _common.pyx:960:31: Exception check after calling 'f' will always require the GIL to be acquired. Declare 'f' as 'noexcept' if you control the definition and you're sure you don't want the function to raise exceptions.\n",
            "      performance hint: _common.pyx:1002:32: Exception check after calling 'f1' will always require the GIL to be acquired. Declare 'f1' as 'noexcept' if you control the definition and you're sure you don't want the function to raise exceptions.\n",
            "      Processing numpy/random\\_generator.pyx\n",
            "      performance hint: _generator.pyx:707:41: Exception check after calling '_shuffle_int' will always require the GIL to be acquired.\n",
            "      Possible solutions:\n",
            "          1. Declare '_shuffle_int' as 'noexcept' if you control the definition and you're sure you don't want the function to raise exceptions.\n",
            "          2. Use an 'int' return type on '_shuffle_int' to allow an error code to be returned.\n",
            "      performance hint: _generator.pyx:736:45: Exception check after calling '_shuffle_int' will always require the GIL to be acquired.\n",
            "      Possible solutions:\n",
            "          1. Declare '_shuffle_int' as 'noexcept' if you control the definition and you're sure you don't want the function to raise exceptions.\n",
            "          2. Use an 'int' return type on '_shuffle_int' to allow an error code to be returned.\n",
            "      Processing numpy/random\\_mt19937.pyx\n",
            "      \n",
            "      Error compiling Cython file:\n",
            "      ------------------------------------------------------------\n",
            "      ...\n",
            "              for i in range(1, RK_STATE_LEN):\n",
            "                  self.rng_state.key[i] = val[i]\n",
            "              self.rng_state.pos = i\n",
            "      \n",
            "              self._bitgen.state = &self.rng_state\n",
            "              self._bitgen.next_uint64 = &mt19937_uint64\n",
            "                                         ^\n",
            "      ------------------------------------------------------------\n",
            "      \n",
            "      _mt19937.pyx:138:35: Cannot assign type 'uint64_t (*)(void *) except? -1 nogil' to 'uint64_t (*)(void *) noexcept nogil'. Exception values are incompatible. Suggest adding 'noexcept' to the type of the value being assigned.\n",
            "      Traceback (most recent call last):\n",
            "        File \"C:\\Users\\luizo\\AppData\\Local\\Temp\\pip-install-bxz4l9q_\\numpy_1a53a3a142f749c99822dead15ba3551\\tools\\cythonize.py\", line 235, in <module>\n",
            "          main()\n",
            "        File \"C:\\Users\\luizo\\AppData\\Local\\Temp\\pip-install-bxz4l9q_\\numpy_1a53a3a142f749c99822dead15ba3551\\tools\\cythonize.py\", line 231, in main\n",
            "          find_process_files(root_dir)\n",
            "        File \"C:\\Users\\luizo\\AppData\\Local\\Temp\\pip-install-bxz4l9q_\\numpy_1a53a3a142f749c99822dead15ba3551\\tools\\cythonize.py\", line 222, in find_process_files\n",
            "          process(root_dir, fromfile, tofile, function, hash_db)\n",
            "        File \"C:\\Users\\luizo\\AppData\\Local\\Temp\\pip-install-bxz4l9q_\\numpy_1a53a3a142f749c99822dead15ba3551\\tools\\cythonize.py\", line 188, in process\n",
            "          processor_function(fromfile, tofile)\n",
            "        File \"C:\\Users\\luizo\\AppData\\Local\\Temp\\pip-install-bxz4l9q_\\numpy_1a53a3a142f749c99822dead15ba3551\\tools\\cythonize.py\", line 77, in process_pyx\n",
            "          subprocess.check_call(\n",
            "        File \"C:\\Users\\luizo\\anaconda3\\Lib\\subprocess.py\", line 413, in check_call\n",
            "          raise CalledProcessError(retcode, cmd)\n",
            "      subprocess.CalledProcessError: Command '['C:\\\\Users\\\\luizo\\\\anaconda3\\\\python.exe', '-m', 'cython', '-3', '--fast-fail', '-o', '_mt19937.c', '_mt19937.pyx']' returned non-zero exit status 1.\n",
            "      Traceback (most recent call last):\n",
            "        File \"C:\\Users\\luizo\\anaconda3\\Lib\\site-packages\\pip\\_vendor\\pyproject_hooks\\_in_process\\_in_process.py\", line 353, in <module>\n",
            "          main()\n",
            "        File \"C:\\Users\\luizo\\anaconda3\\Lib\\site-packages\\pip\\_vendor\\pyproject_hooks\\_in_process\\_in_process.py\", line 335, in main\n",
            "          json_out['return_val'] = hook(**hook_input['kwargs'])\n",
            "                                   ^^^^^^^^^^^^^^^^^^^^^^^^^^^^\n",
            "        File \"C:\\Users\\luizo\\anaconda3\\Lib\\site-packages\\pip\\_vendor\\pyproject_hooks\\_in_process\\_in_process.py\", line 149, in prepare_metadata_for_build_wheel\n",
            "          return hook(metadata_directory, config_settings)\n",
            "                 ^^^^^^^^^^^^^^^^^^^^^^^^^^^^^^^^^^^^^^^^^\n",
            "        File \"C:\\Users\\luizo\\AppData\\Local\\Temp\\pip-build-env-29wid7yd\\overlay\\Lib\\site-packages\\setuptools\\build_meta.py\", line 157, in prepare_metadata_for_build_wheel\n",
            "          self.run_setup()\n",
            "        File \"C:\\Users\\luizo\\AppData\\Local\\Temp\\pip-build-env-29wid7yd\\overlay\\Lib\\site-packages\\setuptools\\build_meta.py\", line 249, in run_setup\n",
            "          self).run_setup(setup_script=setup_script)\n",
            "                ^^^^^^^^^^^^^^^^^^^^^^^^^^^^^^^^^^^^\n",
            "        File \"C:\\Users\\luizo\\AppData\\Local\\Temp\\pip-build-env-29wid7yd\\overlay\\Lib\\site-packages\\setuptools\\build_meta.py\", line 142, in run_setup\n",
            "          exec(compile(code, __file__, 'exec'), locals())\n",
            "        File \"setup.py\", line 499, in <module>\n",
            "          setup_package()\n",
            "        File \"setup.py\", line 479, in setup_package\n",
            "          generate_cython()\n",
            "        File \"setup.py\", line 274, in generate_cython\n",
            "          raise RuntimeError(\"Running cythonize failed!\")\n",
            "      RuntimeError: Running cythonize failed!\n",
            "      [end of output]\n",
            "  \n",
            "  note: This error originates from a subprocess, and is likely not a problem with pip.\n",
            "error: metadata-generation-failed\n",
            "\n",
            "× Encountered error while generating package metadata.\n",
            "╰─> See above for output.\n",
            "\n",
            "note: This is an issue with the package mentioned above, not pip.\n",
            "hint: See above for details.\n"
          ]
        }
      ],
      "source": [
        "!pip install -r requirements.txt"
      ]
    },
    {
      "cell_type": "code",
      "execution_count": 7,
      "metadata": {
        "colab": {},
        "colab_type": "code",
        "id": "PCQtQXVz2lnR"
      },
      "outputs": [],
      "source": [
        "from textblob import TextBlob\n",
        "from googletrans import Translator"
      ]
    },
    {
      "cell_type": "code",
      "execution_count": 8,
      "metadata": {
        "colab": {},
        "colab_type": "code",
        "id": "8Y-um8TS26vb"
      },
      "outputs": [],
      "source": [
        "frase = \"Python é ótimo para Machine Learning\"\n",
        "tb = TextBlob(frase)\n",
        "\n",
        "translator = Translator()\n",
        "tb_en = translator.translate(tb.raw, dest='en').text"
      ]
    },
    {
      "cell_type": "code",
      "execution_count": 9,
      "metadata": {
        "colab": {
          "base_uri": "https://localhost:8080/",
          "height": 34
        },
        "colab_type": "code",
        "id": "SO0WSoTm3KXJ",
        "outputId": "bea74843-4d05-495c-bfce-f9023b2e36a3"
      },
      "outputs": [],
      "source": [
        "tb_en_blob = TextBlob(tb_en)\n",
        "polarity = tb_en_blob.sentiment.polarity"
      ]
    },
    {
      "cell_type": "code",
      "execution_count": 10,
      "metadata": {
        "colab": {
          "base_uri": "https://localhost:8080/",
          "height": 34
        },
        "colab_type": "code",
        "id": "1L2HbLII3lzT",
        "outputId": "3dc5b2aa-ffb4-43e7-e3c0-f0d8ef95c407"
      },
      "outputs": [
        {
          "data": {
            "text/plain": [
              "0.8"
            ]
          },
          "execution_count": 10,
          "metadata": {},
          "output_type": "execute_result"
        }
      ],
      "source": [
        "tb_en\n",
        "polarity"
      ]
    },
    {
      "cell_type": "code",
      "execution_count": null,
      "metadata": {
        "colab": {},
        "colab_type": "code",
        "id": "4UiOGnIy31sS"
      },
      "outputs": [],
      "source": []
    }
  ],
  "metadata": {
    "colab": {
      "name": "analise-de-sentimentoipynb",
      "provenance": []
    },
    "kernelspec": {
      "display_name": "Python 3",
      "name": "python3"
    },
    "language_info": {
      "codemirror_mode": {
        "name": "ipython",
        "version": 3
      },
      "file_extension": ".py",
      "mimetype": "text/x-python",
      "name": "python",
      "nbconvert_exporter": "python",
      "pygments_lexer": "ipython3",
      "version": "3.11.7"
    }
  },
  "nbformat": 4,
  "nbformat_minor": 0
}
