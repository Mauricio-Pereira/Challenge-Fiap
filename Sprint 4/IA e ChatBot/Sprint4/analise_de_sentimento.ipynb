{
  "cells": [
    {
      "cell_type": "code",
      "execution_count": 1,
      "metadata": {},
      "outputs": [],
      "source": [
        "!pip install -q textblob googletrans==4.0.0-rc1"
      ]
    },
    {
      "cell_type": "code",
      "execution_count": 2,
      "metadata": {
        "colab": {},
        "colab_type": "code",
        "id": "PCQtQXVz2lnR"
      },
      "outputs": [],
      "source": [
        "from textblob import TextBlob\n",
        "from googletrans import Translator"
      ]
    },
    {
      "cell_type": "code",
      "execution_count": 3,
      "metadata": {
        "colab": {},
        "colab_type": "code",
        "id": "8Y-um8TS26vb"
      },
      "outputs": [],
      "source": [
        "frase = \"Python é ótimo para Machine Learning\"\n",
        "tb = TextBlob(frase)\n",
        "\n",
        "translator = Translator()\n",
        "tb_en = translator.translate(tb.raw, dest='en').text"
      ]
    },
    {
      "cell_type": "code",
      "execution_count": 4,
      "metadata": {
        "colab": {
          "base_uri": "https://localhost:8080/",
          "height": 34
        },
        "colab_type": "code",
        "id": "SO0WSoTm3KXJ",
        "outputId": "bea74843-4d05-495c-bfce-f9023b2e36a3"
      },
      "outputs": [],
      "source": [
        "tb_en_blob = TextBlob(tb_en)\n",
        "polarity = tb_en_blob.sentiment.polarity"
      ]
    },
    {
      "cell_type": "code",
      "execution_count": 5,
      "metadata": {
        "colab": {
          "base_uri": "https://localhost:8080/",
          "height": 34
        },
        "colab_type": "code",
        "id": "1L2HbLII3lzT",
        "outputId": "3dc5b2aa-ffb4-43e7-e3c0-f0d8ef95c407"
      },
      "outputs": [
        {
          "data": {
            "text/plain": [
              "0.8"
            ]
          },
          "execution_count": 5,
          "metadata": {},
          "output_type": "execute_result"
        }
      ],
      "source": [
        "tb_en\n",
        "polarity"
      ]
    },
    {
      "cell_type": "code",
      "execution_count": null,
      "metadata": {
        "colab": {},
        "colab_type": "code",
        "id": "4UiOGnIy31sS"
      },
      "outputs": [],
      "source": []
    }
  ],
  "metadata": {
    "colab": {
      "name": "analise-de-sentimentoipynb",
      "provenance": []
    },
    "kernelspec": {
      "display_name": "Python 3",
      "name": "python3"
    },
    "language_info": {
      "codemirror_mode": {
        "name": "ipython",
        "version": 3
      },
      "file_extension": ".py",
      "mimetype": "text/x-python",
      "name": "python",
      "nbconvert_exporter": "python",
      "pygments_lexer": "ipython3",
      "version": "3.11.7"
    }
  },
  "nbformat": 4,
  "nbformat_minor": 0
}
